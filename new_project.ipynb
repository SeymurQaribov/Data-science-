{
 "cells": [
  {
   "cell_type": "code",
   "execution_count": 1,
   "id": "4c644c7a",
   "metadata": {},
   "outputs": [
    {
     "name": "stdout",
     "output_type": "stream",
     "text": [
      "[80, 85, 90, 95, 100, 105, 110, 115, 120, 125]\n"
     ]
    }
   ],
   "source": [
    "Array = [80, 85, 90, 95, 100, 105, 110, 115, 120, 125]\n",
    "print(Array)#Bu Datanı sutrukturlaşdırmaq və təqdim etmənin ən yaxçı yollarından biridi."
   ]
  },
  {
   "cell_type": "code",
   "execution_count": 2,
   "id": "7254bac2",
   "metadata": {},
   "outputs": [
    {
     "name": "stdout",
     "output_type": "stream",
     "text": [
      "125\n"
     ]
    }
   ],
   "source": [
    "Array = max(80, 85, 90, 95, 100, 105, 110, 115, 120, 125)\n",
    "print(Array)#Masimum dəyərin tapılması"
   ]
  },
  {
   "cell_type": "code",
   "execution_count": 3,
   "id": "b6eb0c00",
   "metadata": {},
   "outputs": [
    {
     "name": "stdout",
     "output_type": "stream",
     "text": [
      "80\n"
     ]
    }
   ],
   "source": [
    "Array = min(80, 85, 90, 95, 100, 105, 110, 115, 120, 125)\n",
    "print(Array)#Minimum dəyərin hesablanması"
   ]
  },
  {
   "cell_type": "code",
   "execution_count": 4,
   "id": "4d648f0b",
   "metadata": {},
   "outputs": [
    {
     "name": "stdout",
     "output_type": "stream",
     "text": [
      "102.5\n"
     ]
    }
   ],
   "source": [
    "import numpy as np \n",
    "Array = [80, 85, 90, 95, 100, 105, 110, 115, 120, 125]\n",
    "Mean_Array = np.mean(Array)\n",
    "print(Mean_Array)#Orta dəyərin hesablanması"
   ]
  },
  {
   "cell_type": "code",
   "execution_count": 5,
   "id": "c30015c6",
   "metadata": {},
   "outputs": [
    {
     "name": "stdout",
     "output_type": "stream",
     "text": [
      "   col1  col2  col3\n",
      "0     1     4     9\n",
      "1     2     5     3\n",
      "2     3     2     2\n",
      "3     4     7     4\n",
      "4     5     8     5\n"
     ]
    }
   ],
   "source": [
    "import pandas as pd\n",
    "\n",
    "d={'col1':[1,2,3,4,5],'col2':[4,5,2,7,8],'col3':[9,3,2,4,5]}\n",
    "df = pd.DataFrame(data=d)\n",
    "print(df)#Verilmiş datanın cədvəl halından təqdim etmək üçün Pythonnın pandas kitabxanasından istifadə edə bilərik.\n"
   ]
  },
  {
   "cell_type": "code",
   "execution_count": 6,
   "id": "be5befb6",
   "metadata": {},
   "outputs": [
    {
     "name": "stdout",
     "output_type": "stream",
     "text": [
      "3\n"
     ]
    }
   ],
   "source": [
    "count_column = df.shape[1]#Cədvəldəki sütunların hesablanması\n",
    "print(count_column)"
   ]
  },
  {
   "cell_type": "code",
   "execution_count": 7,
   "id": "51336b69",
   "metadata": {},
   "outputs": [
    {
     "name": "stdout",
     "output_type": "stream",
     "text": [
      "5\n"
     ]
    }
   ],
   "source": [
    "count_row = df.shape[0]#Sətirlərin hesablanması\n",
    "print(count_row)"
   ]
  },
  {
   "cell_type": "code",
   "execution_count": 8,
   "id": "f85f22ff",
   "metadata": {},
   "outputs": [
    {
     "name": "stdout",
     "output_type": "stream",
     "text": [
      "   Müddət  Orta_Ürəkdöyüntüləri  Max_Ürəkdöyüntüləri  Kalori_yanma  \\\n",
      "0      30                    80                  120           240   \n",
      "1      30                    85                  120           250   \n",
      "2      45                    90                  130           260   \n",
      "3      45                    95                  130           270   \n",
      "4      45                   100                  140           280   \n",
      "5      60                   105                  140           290   \n",
      "6      60                   110                  145           300   \n",
      "7      60                   115                  145           310   \n",
      "8      75                   120                  150           320   \n",
      "9      75                   125                  150           330   \n",
      "\n",
      "   İs_müddəti  Yatmaq_müddəti  \n",
      "0          10               7  \n",
      "1          10               7  \n",
      "2           8               7  \n",
      "3           8               7  \n",
      "4           0               7  \n",
      "5           7               8  \n",
      "6           7               8  \n",
      "7           8               8  \n",
      "8           0               8  \n",
      "9           8               8  \n"
     ]
    }
   ],
   "source": [
    "d2 =  {'Müddət':[30,30,45,45,45,60,60,60,75,75],\n",
    "        'Orta_Ürəkdöyüntüləri':[80,85,90,95,100,105,110,115,120,125],\n",
    "        'Max_Ürəkdöyüntüləri':[120,120,130,130,140,140,145,145,150,150],\n",
    "        'Kalori_yanma':[240,250,260,270,280,290,300,310,320,330],\n",
    "        'İs_müddəti':[10,10,8,8,0,7,7,8,0,8],\n",
    "        'Yatmaq_müddəti':[7,7,7,7,7,8,8,8,8,8]}#Bu məlumatlardan verilmiş dəyişənlər arasında əqlaqənin mövcud olub olmadığını\n",
    "# və birinin dəyişməsi digərlərinə necə təsir göstərdiyini başa düşmək üçün istifadə edəceəyik.\n",
    "df2=pd.DataFrame(data=d2)\n",
    "print(df2)"
   ]
  },
  {
   "cell_type": "code",
   "execution_count": 9,
   "id": "83a2f764",
   "metadata": {},
   "outputs": [
    {
     "name": "stdout",
     "output_type": "stream",
     "text": [
      "   Müddət  Orta_Ürəkdöyüntüləri  Max_Ürəkdöyüntüləri  Kalori_yanma  \\\n",
      "0      30                    80                  120           240   \n",
      "1      30                    85                  120           250   \n",
      "2      45                    90                  130           260   \n",
      "3      45                    95                  130           270   \n",
      "4      45                   100                  140           280   \n",
      "5      60                   105                  140           290   \n",
      "6      60                   110                  145           300   \n",
      "7      60                   115                  145           310   \n",
      "8      75                   120                  150           320   \n",
      "9      75                   125                  150           330   \n",
      "\n",
      "   İs_müddəti  Yatmaq_müddəti  \n",
      "0          10               7  \n",
      "1          10               7  \n",
      "2           8               7  \n",
      "3           8               7  \n",
      "4           0               7  \n",
      "5           7               8  \n",
      "6           7               8  \n",
      "7           8               8  \n",
      "8           0               8  \n",
      "9           8               8  \n"
     ]
    }
   ],
   "source": [
    "df2.dropna(axis = 0,inplace = True)\n",
    "print(df2)#Əgər cədvəldə NaN dəyərlər varsa onları  silmək üçün dropna() funksiyasından istifadə edə bilərik."
   ]
  },
  {
   "cell_type": "code",
   "execution_count": 10,
   "id": "a0efb608",
   "metadata": {},
   "outputs": [
    {
     "name": "stdout",
     "output_type": "stream",
     "text": [
      "<class 'pandas.core.frame.DataFrame'>\n",
      "Int64Index: 10 entries, 0 to 9\n",
      "Data columns (total 6 columns):\n",
      " #   Column                Non-Null Count  Dtype\n",
      "---  ------                --------------  -----\n",
      " 0   Müddət                10 non-null     int64\n",
      " 1   Orta_Ürəkdöyüntüləri  10 non-null     int64\n",
      " 2   Max_Ürəkdöyüntüləri   10 non-null     int64\n",
      " 3   Kalori_yanma          10 non-null     int64\n",
      " 4   İs_müddəti            10 non-null     int64\n",
      " 5   Yatmaq_müddəti        10 non-null     int64\n",
      "dtypes: int64(6)\n",
      "memory usage: 560.0 bytes\n",
      "None\n"
     ]
    }
   ],
   "source": [
    "print(df2.info())#Cədvəl haqqında məumat əldə etmək üçün funksiya"
   ]
  },
  {
   "cell_type": "code",
   "execution_count": 11,
   "id": "d403ba2a",
   "metadata": {},
   "outputs": [],
   "source": [
    "df2[\"Müddət\"]=df2[\"Müddət\"].astype(float)\n",
    "df2[\"Orta_Ürəkdöyüntüləri\"]=df2[\"Orta_Ürəkdöyüntüləri\"].astype(float)\n",
    "df2[\"Max_Ürəkdöyüntüləri\"]=df2[\"Max_Ürəkdöyüntüləri\"].astype(float)\n",
    "df2[\"Kalori_yanma\"]=df2[\"Kalori_yanma\"].astype(float)\n",
    "df2[\"İs_müddəti\"]=df2[\"İs_müddəti\"].astype(float)\n",
    "df2[\"Yatmaq_müddəti\"]=df2[\"Yatmaq_müddəti\"].astype(float)#Data tipini dəyiştirkmək üçün funksiya"
   ]
  },
  {
   "cell_type": "code",
   "execution_count": 12,
   "id": "1b5c2786",
   "metadata": {},
   "outputs": [
    {
     "name": "stdout",
     "output_type": "stream",
     "text": [
      "<class 'pandas.core.frame.DataFrame'>\n",
      "Int64Index: 10 entries, 0 to 9\n",
      "Data columns (total 6 columns):\n",
      " #   Column                Non-Null Count  Dtype  \n",
      "---  ------                --------------  -----  \n",
      " 0   Müddət                10 non-null     float64\n",
      " 1   Orta_Ürəkdöyüntüləri  10 non-null     float64\n",
      " 2   Max_Ürəkdöyüntüləri   10 non-null     float64\n",
      " 3   Kalori_yanma          10 non-null     float64\n",
      " 4   İs_müddəti            10 non-null     float64\n",
      " 5   Yatmaq_müddəti        10 non-null     float64\n",
      "dtypes: float64(6)\n",
      "memory usage: 560.0 bytes\n",
      "None\n"
     ]
    }
   ],
   "source": [
    "print(df2.info())"
   ]
  },
  {
   "cell_type": "code",
   "execution_count": 13,
   "id": "3137e669",
   "metadata": {},
   "outputs": [
    {
     "name": "stdout",
     "output_type": "stream",
     "text": [
      "          Müddət  Orta_Ürəkdöyüntüləri  Max_Ürəkdöyüntüləri  Kalori_yanma  \\\n",
      "count  10.000000             10.000000            10.000000     10.000000   \n",
      "mean   52.500000            102.500000           137.000000    285.000000   \n",
      "std    16.201852             15.138252            11.352924     30.276504   \n",
      "min    30.000000             80.000000           120.000000    240.000000   \n",
      "25%    45.000000             91.250000           130.000000    262.500000   \n",
      "50%    52.500000            102.500000           140.000000    285.000000   \n",
      "75%    60.000000            113.750000           145.000000    307.500000   \n",
      "max    75.000000            125.000000           150.000000    330.000000   \n",
      "\n",
      "       İs_müddəti  Yatmaq_müddəti  \n",
      "count   10.000000       10.000000  \n",
      "mean     6.600000        7.500000  \n",
      "std      3.627059        0.527046  \n",
      "min      0.000000        7.000000  \n",
      "25%      7.000000        7.000000  \n",
      "50%      8.000000        7.500000  \n",
      "75%      8.000000        8.000000  \n",
      "max     10.000000        8.000000  \n"
     ]
    }
   ],
   "source": [
    "print(df2.describe())#Məlumatları ümumiləşdirmək üçün Python-da describe() funksiyasından istifadə edə bilərik"
   ]
  },
  {
   "cell_type": "code",
   "execution_count": 14,
   "id": "fe3672cd",
   "metadata": {},
   "outputs": [
    {
     "data": {
      "image/png": "[encoded data removed]",
      "text/plain": [
       "<Figure size 432x288 with 1 Axes>"
      ]
     },
     "metadata": {
      "needs_background": "light"
     },
     "output_type": "display_data"
    }
   ],
   "source": [
    "import matplotlib.pyplot as plt#İndi matplotlib kitabxanasından istifadə edərək ilk olaraq\n",
    "#Orta_Ürəkdöyüntülərinin dəyərlərini Kalori_yanma arasındakı əlaqəni əks etdirə bilərik.\n",
    "\n",
    "df2.plot(x = 'Orta_Ürəkdöyüntüləri',y = 'Kalori_yanma',kind = 'line'),\n",
    "plt.ylim(ymin=0)\n",
    "plt.xlim(xmin=0)\n",
    "plt.show()"
   ]
  },
  {
   "cell_type": "code",
   "execution_count": 15,
   "id": "3a425689",
   "metadata": {},
   "outputs": [
    {
     "name": "stdout",
     "output_type": "stream",
     "text": [
      "Müddət                  15.370426\n",
      "Orta_Ürəkdöyüntüləri    14.361407\n",
      "Max_Ürəkdöyüntüləri     10.770330\n",
      "Kalori_yanma            28.722813\n",
      "İs_müddəti               3.440930\n",
      "Yatmaq_müddəti           0.500000\n",
      "dtype: float64\n"
     ]
    }
   ],
   "source": [
    "std = np.std(df2)\n",
    "print(std)#Dəyişənin standart kənarlaşmasını tapmaq üçün Numpy-dan std() funksiyasından istifadə edə bilərik"
   ]
  },
  {
   "cell_type": "code",
   "execution_count": 16,
   "id": "9d7c3b98",
   "metadata": {},
   "outputs": [
    {
     "name": "stdout",
     "output_type": "stream",
     "text": [
      "Müddət                  0.292770\n",
      "Orta_Ürəkdöyüntüləri    0.140111\n",
      "Max_Ürəkdöyüntüləri     0.078616\n",
      "Kalori_yanma            0.100782\n",
      "İs_müddəti              0.521353\n",
      "Yatmaq_müddəti          0.066667\n",
      "dtype: float64\n"
     ]
    }
   ],
   "source": [
    "cv = np.std(df2)/np.mean(df2)\n",
    "print(cv)#The coefficient of variation standart kənarlaşmanın nə qədər \n",
    "#böyük olduğu barədə fikir əldə etmək üçün istifadə olunur(Coefficient of Variation = Standard Deviation / Mean)."
   ]
  },
  {
   "cell_type": "code",
   "execution_count": 17,
   "id": "3e3f3bf9",
   "metadata": {},
   "outputs": [
    {
     "name": "stdout",
     "output_type": "stream",
     "text": [
      "Müddət                  236.25\n",
      "Orta_Ürəkdöyüntüləri    206.25\n",
      "Max_Ürəkdöyüntüləri     116.00\n",
      "Kalori_yanma            825.00\n",
      "İs_müddəti               11.84\n",
      "Yatmaq_müddəti            0.25\n",
      "dtype: float64\n"
     ]
    }
   ],
   "source": [
    "var = np.var(df2)#Variance dəyərlərin necə yayıldığını göstərən başqa bir rəqəmdir.\n",
    "print(var)"
   ]
  },
  {
   "cell_type": "code",
   "execution_count": 18,
   "id": "2a87c73a",
   "metadata": {},
   "outputs": [
    {
     "data": {
      "image/png": "[encoded data removed]",
      "text/plain": [
       "<Figure size 432x288 with 1 Axes>"
      ]
     },
     "metadata": {
      "needs_background": "light"
     },
     "output_type": "display_data"
    }
   ],
   "source": [
    "#Korrelyasiya iki dəyişən arasındakı əlaqəni ölçür.\n",
    "# Əgər korrelyasiya = 1 olarsa dəyişənlər arasında mükəmməl xətti əlaqə var (məsələn, Kalori_Yanma qarşı Orta_Ürəkdöyüntüləri)\n",
    "df2.plot(x= 'Orta_Ürəkdöyüntüləri',y='Kalori_yanma',kind = 'scatter')\n",
    "plt.show()"
   ]
  },
  {
   "cell_type": "code",
   "execution_count": 19,
   "id": "36cc90be",
   "metadata": {},
   "outputs": [
    {
     "data": {
      "image/png": "[encoded data removed]",
      "text/plain": [
       "<Figure size 432x288 with 1 Axes>"
      ]
     },
     "metadata": {
      "needs_background": "light"
     },
     "output_type": "display_data"
    }
   ],
   "source": [
    "# Əgər korrelyasiya = 0 olarsa dəyişənlər arasında xətti əlaqə yoxdur\n",
    "df2.plot(x='Müddət',y='Max_Ürəkdöyüntüləri',kind='scatter')\n",
    "plt.show()"
   ]
  },
  {
   "cell_type": "code",
   "execution_count": 20,
   "id": "e8257f51",
   "metadata": {},
   "outputs": [
    {
     "data": {
      "image/png": "[encoded data removed]",
      "text/plain": [
       "<Figure size 432x288 with 1 Axes>"
      ]
     },
     "metadata": {
      "needs_background": "light"
     },
     "output_type": "display_data"
    }
   ],
   "source": [
    "#Əgər korrelyasiya = -1 olarsa dəyişənlər arasında mükəmməl mənfi xətti əlaqə var\n",
    "menfi_corr = {'İs_müddəti': [10,9,8,7,6,5,4,3,2,1],\n",
    "'Kalori_yanma': [220,240,260,280,300,320,340,360,380,400]}\n",
    "menfi_corr = pd.DataFrame(data=menfi_corr)\n",
    "\n",
    "menfi_corr.plot(x ='İs_müddəti', y='Kalori_yanma', kind='scatter')\n",
    "plt.show()"
   ]
  },
  {
   "cell_type": "code",
   "execution_count": 21,
   "id": "37f38ac2",
   "metadata": {},
   "outputs": [
    {
     "name": "stdout",
     "output_type": "stream",
     "text": [
      "                      Müddət  Orta_Ürəkdöyüntüləri  Max_Ürəkdöyüntüləri  \\\n",
      "Müddət                  1.00                  0.97                 0.95   \n",
      "Orta_Ürəkdöyüntüləri    0.97                  1.00                 0.97   \n",
      "Max_Ürəkdöyüntüləri     0.95                  0.97                 1.00   \n",
      "Kalori_yanma            0.97                  1.00                 0.97   \n",
      "İs_müddəti             -0.43                 -0.42                -0.56   \n",
      "Yatmaq_müddəti          0.88                  0.87                 0.84   \n",
      "\n",
      "                      Kalori_yanma  İs_müddəti  Yatmaq_müddəti  \n",
      "Müddət                        0.97       -0.43            0.88  \n",
      "Orta_Ürəkdöyüntüləri          1.00       -0.42            0.87  \n",
      "Max_Ürəkdöyüntüləri           0.97       -0.56            0.84  \n",
      "Kalori_yanma                  1.00       -0.42            0.87  \n",
      "İs_müddəti                   -0.42        1.00           -0.17  \n",
      "Yatmaq_müddəti                0.87       -0.17            1.00  \n"
     ]
    }
   ],
   "source": [
    "#Korrelyasiya matrisi dəyişənlər arasında korrelyasiya əmsallarını göstərən cədvəldir.\n",
    "Corr_matrix = round(df2.corr(),2)\n",
    "print(Corr_matrix)"
   ]
  },
  {
   "cell_type": "code",
   "execution_count": 22,
   "id": "88f01cc2",
   "metadata": {},
   "outputs": [
    {
     "data": {
      "image/png": "[encoded data removed]",
      "text/plain": [
       "<Figure size 432x288 with 2 Axes>"
      ]
     },
     "metadata": {
      "needs_background": "light"
     },
     "output_type": "display_data"
    }
   ],
   "source": [
    "#Dəyişənlər arasındakı əlaqəni vizuallaşdırmaq üçün Heatmap'dən istifadə edə bilərik\n",
    "import seaborn as sns\n",
    "corr_df2 = df2.corr()\n",
    "axis_corr = sns.heatmap(\n",
    "corr_df2,\n",
    "vmin = -1,vmax = 1,center = 0,\n",
    "cmap = sns.diverging_palette(50,500,n = 500),\n",
    "square = True)\n",
    "plt.show()"
   ]
  },
  {
   "cell_type": "code",
   "execution_count": 23,
   "id": "4a3da9d2",
   "metadata": {},
   "outputs": [
    {
     "data": {
      "image/png": "[encoded data removed]",
      "text/plain": [
       "<Figure size 432x288 with 1 Axes>"
      ]
     },
     "metadata": {
      "needs_background": "light"
     },
     "output_type": "display_data"
    }
   ],
   "source": [
    "#Bu nümunədə Xətti Reqressiyadan istifadə edərək Kalori_Yanmanı Orta_Ürəkdöyüntüləri proqnozlaşdırmağa çalışacağıq.\n",
    "from scipy import stats\n",
    "x = df2[\"Orta_Ürəkdöyüntüləri\"]\n",
    "y = df2[\"Kalori_yanma\"]\n",
    "slope,intercept,r,p,std_err = stats.linregress(x,y)\n",
    "def my_func(x):\n",
    "    return x*slope + intercept\n",
    "mymodel = list(map(my_func,x))\n",
    "plt.scatter(x,y)\n",
    "plt.plot(x,mymodel)\n",
    "plt.ylim(ymin = 0,ymax = 2000)\n",
    "plt.xlim(xmin = 0,xmax = 200)\n",
    "plt.xlabel(\"Orta_Ürəkdöyüntüləri\")\n",
    "plt.ylabel(\"Kalori_yanma\")\n",
    "\n",
    "plt.show()\n",
    "\n"
   ]
  },
  {
   "cell_type": "code",
   "execution_count": 24,
   "id": "95d2290f",
   "metadata": {},
   "outputs": [
    {
     "name": "stdout",
     "output_type": "stream",
     "text": [
      "                            OLS Regression Results                            \n",
      "==============================================================================\n",
      "Dep. Variable:           Kalori_yanma   R-squared:                       1.000\n",
      "Model:                            OLS   Adj. R-squared:                  1.000\n",
      "Method:                 Least Squares   F-statistic:                 5.107e+29\n",
      "Date:                Fri, 30 Dec 2022   Prob (F-statistic):          1.65e-116\n",
      "Time:                        15:52:54   Log-Likelihood:                 283.86\n",
      "No. Observations:                  10   AIC:                            -563.7\n",
      "Df Residuals:                       8   BIC:                            -563.1\n",
      "Df Model:                           1                                         \n",
      "Covariance Type:            nonrobust                                         \n",
      "========================================================================================\n",
      "                           coef    std err          t      P>|t|      [0.025      0.975]\n",
      "----------------------------------------------------------------------------------------\n",
      "Intercept               80.0000    2.9e-13   2.76e+14      0.000      80.000      80.000\n",
      "Orta_Ürəkdöyüntüləri     2.0000    2.8e-15   7.15e+14      0.000       2.000       2.000\n",
      "==============================================================================\n",
      "Omnibus:                     2122.865   Durbin-Watson:                   0.000\n",
      "Prob(Omnibus):                  0.000   Jarque-Bera (JB):                3.750\n",
      "Skew:                           0.000   Prob(JB):                        0.153\n",
      "Kurtosis:                       0.000   Cond. No.                         746.\n",
      "==============================================================================\n",
      "\n",
      "Notes:\n",
      "[1] Standard Errors assume that the covariance matrix of the errors is correctly specified.\n"
     ]
    },
    {
     "name": "stderr",
     "output_type": "stream",
     "text": [
      "C:\\Users\\Lenovo\\anaconda3\\New folder\\lib\\site-packages\\scipy\\stats\\stats.py:1541: UserWarning: kurtosistest only valid for n>=20 ... continuing anyway, n=10\n",
      "  warnings.warn(\"kurtosistest only valid for n>=20 ... continuing \"\n"
     ]
    }
   ],
   "source": [
    "#Python-da xətti reqressiya cədvəlini necə yaratmaq olar\n",
    "import statsmodels.formula.api as smf\n",
    "model = smf.ols('Kalori_yanma~Orta_Ürəkdöyüntüləri',data = df2)\n",
    "netice = model.fit()\n",
    "print(netice.summary())# Bu cedvelde P deyerinin 0-ra beraber olamsi bu iki deyisen arasinda elaqenin oldugunu gosterir.\n",
    "#Eger P>t 1-e yaxin deyer alsaydi ve ya 0.5-den boyuk olsaydi onlar arasinda elaqe olmazdi(Ancaq bu teqdim etdiyim datalar \n",
    "# realliga uygun deyil)\n",
    "# R-squared 1-e bearberdi yeni data cox sepelenmir."
   ]
  },
  {
   "cell_type": "code",
   "execution_count": 25,
   "id": "9f61a3da",
   "metadata": {},
   "outputs": [
    {
     "name": "stdout",
     "output_type": "stream",
     "text": [
      "360.0\n",
      "320.0\n",
      "460.0\n"
     ]
    }
   ],
   "source": [
    "def Predict_Kalori_yanma(Orta_Ürəkdöyüntüləri):\n",
    " return(2.0000*Orta_Ürəkdöyüntüləri + 80.0000)# Burada 80.000 ve 2.000 yuxaridan goturduyumuz intercept ve slope'du.\n",
    "\n",
    "print(Predict_Kalori_yanma(140))\n",
    "print(Predict_Kalori_yanma(120))\n",
    "print(Predict_Kalori_yanma(190))\n",
    "#Proqnozları yerinə yetirmək üçün Python-da xətti reqressiya funksiyasını təyin edek.\n",
    "\n",
    "#Orta_Ürəkdöyüntüləri 140, 120, 190 olarsa, Kalori_Yanım nədir?"
   ]
  },
  {
   "cell_type": "code",
   "execution_count": 26,
   "id": "1ca9a719",
   "metadata": {},
   "outputs": [
    {
     "name": "stdout",
     "output_type": "stream",
     "text": [
      "                            OLS Regression Results                            \n",
      "==============================================================================\n",
      "Dep. Variable:           Kalori_yanma   R-squared:                       1.000\n",
      "Model:                            OLS   Adj. R-squared:                  1.000\n",
      "Method:                 Least Squares   F-statistic:                 3.250e+29\n",
      "Date:                Fri, 30 Dec 2022   Prob (F-statistic):          4.10e-102\n",
      "Time:                        15:52:56   Log-Likelihood:                 285.74\n",
      "No. Observations:                  10   AIC:                            -565.5\n",
      "Df Residuals:                       7   BIC:                            -564.6\n",
      "Df Model:                           2                                         \n",
      "Covariance Type:            nonrobust                                         \n",
      "========================================================================================\n",
      "                           coef    std err          t      P>|t|      [0.025      0.975]\n",
      "----------------------------------------------------------------------------------------\n",
      "Intercept               80.0000   5.61e-13   1.43e+14      0.000      80.000      80.000\n",
      "Orta_Ürəkdöyüntüləri     2.0000   9.94e-15   2.01e+14      0.000       2.000       2.000\n",
      "Müddət                -1.11e-15   9.28e-15     -0.120      0.908   -2.31e-14    2.08e-14\n",
      "==============================================================================\n",
      "Omnibus:                        3.972   Durbin-Watson:                   0.045\n",
      "Prob(Omnibus):                  0.137   Jarque-Bera (JB):                1.289\n",
      "Skew:                          -0.398   Prob(JB):                        0.525\n",
      "Kurtosis:                       1.432   Cond. No.                     1.84e+03\n",
      "==============================================================================\n",
      "\n",
      "Notes:\n",
      "[1] Standard Errors assume that the covariance matrix of the errors is correctly specified.\n",
      "[2] The condition number is large, 1.84e+03. This might indicate that there are\n",
      "strong multicollinearity or other numerical problems.\n"
     ]
    },
    {
     "name": "stderr",
     "output_type": "stream",
     "text": [
      "C:\\Users\\Lenovo\\anaconda3\\New folder\\lib\\site-packages\\scipy\\stats\\stats.py:1541: UserWarning: kurtosistest only valid for n>=20 ... continuing anyway, n=10\n",
      "  warnings.warn(\"kurtosistest only valid for n>=20 ... continuing \"\n"
     ]
    }
   ],
   "source": [
    "import statsmodels.formula.api as smf\n",
    "model = smf.ols('Kalori_yanma~Orta_Ürəkdöyüntüləri + Müddət ',data = df2)\n",
    "netice = model.fit()\n",
    "print(netice.summary())"
   ]
  },
  {
   "cell_type": "code",
   "execution_count": 30,
   "id": "aa6cac6a",
   "metadata": {},
   "outputs": [
    {
     "name": "stdout",
     "output_type": "stream",
     "text": [
      "359.99999999999994\n",
      "320.0\n",
      "459.99999999999994\n"
     ]
    }
   ],
   "source": [
    "def Predict_Kalori_yanma(Orta_Ürəkdöyüntüləri,Müddət):\n",
    " return(2.0000*Orta_Ürəkdöyüntüləri + Müddət*(-1.11e-15) + 80.0000)\n",
    "\n",
    "print(Predict_Kalori_yanma(140,60))\n",
    "print(Predict_Kalori_yanma(120,23))\n",
    "print(Predict_Kalori_yanma(190,40))"
   ]
  },
  {
   "cell_type": "code",
   "execution_count": null,
   "id": "224799e1",
   "metadata": {},
   "outputs": [],
   "source": []
  }
 ],
 "metadata": {
  "kernelspec": {
   "display_name": "Python 3 (ipykernel)",
   "language": "python",
   "name": "python3"
  },
  "language_info": {
   "codemirror_mode": {
    "name": "ipython",
    "version": 3
   },
   "file_extension": ".py",
   "mimetype": "text/x-python",
   "name": "python",
   "nbconvert_exporter": "python",
   "pygments_lexer": "ipython3",
   "version": "3.9.7"
  }
 },
 "nbformat": 4,
 "nbformat_minor": 5
}
